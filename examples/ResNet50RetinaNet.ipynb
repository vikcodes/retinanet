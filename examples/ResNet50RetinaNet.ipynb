{
 "cells": [
  {
   "cell_type": "markdown",
   "metadata": {},
   "source": [
    "## Load necessary modules"
   ]
  },
  {
   "cell_type": "code",
   "execution_count": 2,
   "metadata": {},
   "outputs": [
    {
     "name": "stderr",
     "output_type": "stream",
     "text": [
      "/Users/oluwasanya/Desktop/keras-retinanet/.env/lib/python3.6/site-packages/h5py/__init__.py:36: FutureWarning: Conversion of the second argument of issubdtype from `float` to `np.floating` is deprecated. In future, it will be treated as `np.float64 == np.dtype(float).type`.\n",
      "  from ._conv import register_converters as _register_converters\n",
      "Using TensorFlow backend.\n"
     ]
    }
   ],
   "source": [
    "# show images inline\n",
    "%matplotlib inline\n",
    "\n",
    "# automatically reload modules when they have changed\n",
    "%load_ext autoreload\n",
    "%autoreload 2\n",
    "\n",
    "# import keras\n",
    "import keras\n",
    "\n",
    "# import keras_retinanet\n",
    "from keras_retinanet.models.resnet import custom_objects\n",
    "from keras_retinanet.utils.image import read_image_bgr, preprocess_image, resize_image\n",
    "\n",
    "# import miscellaneous modules\n",
    "import matplotlib.pyplot as plt\n",
    "import cv2\n",
    "import os\n",
    "import numpy as np\n",
    "import time\n",
    "\n",
    "# set tf backend to allow memory to grow, instead of claiming everything\n",
    "import tensorflow as tf\n",
    "\n",
    "def get_session():\n",
    "    config = tf.ConfigProto()\n",
    "    config.gpu_options.allow_growth = True\n",
    "    return tf.Session(config=config)\n",
    "\n",
    "# use this environment flag to change which GPU to use\n",
    "#os.environ[\"CUDA_VISIBLE_DEVICES\"] = \"1\"\n",
    "\n",
    "# set the modified tf session as backend in keras\n",
    "keras.backend.tensorflow_backend.set_session(get_session())"
   ]
  },
  {
   "cell_type": "markdown",
   "metadata": {},
   "source": [
    "## Load RetinaNet model"
   ]
  },
  {
   "cell_type": "code",
   "execution_count": 3,
   "metadata": {
    "scrolled": false
   },
   "outputs": [
    {
     "name": "stderr",
     "output_type": "stream",
     "text": [
      "/Users/oluwasanya/Desktop/keras-retinanet/.env/lib/python3.6/site-packages/keras/models.py:274: UserWarning: Output \"non_maximum_suppression_1\" missing from loss dictionary. We assume this was done on purpose, and we will not be expecting any data to be passed to \"non_maximum_suppression_1\" during training.\n",
      "  sample_weight_mode=sample_weight_mode)\n"
     ]
    }
   ],
   "source": [
    "# adjust this to point to your downloaded/trained model\n",
    "model_path = os.path.join('..', 'snapshots', 'resnet50_coco_best_v1.2.2.h5')\n",
    "\n",
    "# load retinanet model\n",
    "model = keras.models.load_model(model_path, custom_objects=custom_objects)\n",
    "#print(model.summary())\n",
    "\n",
    "# load label to names mapping for visualization purposes\n",
    "labels_to_names = {0: 'person', 1: 'bicycle', 2: 'car', 3: 'motorcycle', 4: 'airplane', 5: 'bus', 6: 'train', 7: 'truck', 8: 'boat', 9: 'traffic light', 10: 'fire hydrant', 11: 'stop sign', 12: 'parking meter', 13: 'bench', 14: 'bird', 15: 'cat', 16: 'dog', 17: 'horse', 18: 'sheep', 19: 'cow', 20: 'elephant', 21: 'bear', 22: 'zebra', 23: 'giraffe', 24: 'backpack', 25: 'umbrella', 26: 'handbag', 27: 'tie', 28: 'suitcase', 29: 'frisbee', 30: 'skis', 31: 'snowboard', 32: 'sports ball', 33: 'kite', 34: 'baseball bat', 35: 'baseball glove', 36: 'skateboard', 37: 'surfboard', 38: 'tennis racket', 39: 'bottle', 40: 'wine glass', 41: 'cup', 42: 'fork', 43: 'knife', 44: 'spoon', 45: 'bowl', 46: 'banana', 47: 'apple', 48: 'sandwich', 49: 'orange', 50: 'broccoli', 51: 'carrot', 52: 'hot dog', 53: 'pizza', 54: 'donut', 55: 'cake', 56: 'chair', 57: 'couch', 58: 'potted plant', 59: 'bed', 60: 'dining table', 61: 'toilet', 62: 'tv', 63: 'laptop', 64: 'mouse', 65: 'remote', 66: 'keyboard', 67: 'cell phone', 68: 'microwave', 69: 'oven', 70: 'toaster', 71: 'sink', 72: 'refrigerator', 73: 'book', 74: 'clock', 75: 'vase', 76: 'scissors', 77: 'teddy bear', 78: 'hair drier', 79: 'toothbrush'}"
   ]
  },
  {
   "cell_type": "markdown",
   "metadata": {},
   "source": [
    "## Run detection on example"
   ]
  },
  {
   "cell_type": "code",
   "execution_count": 21,
   "metadata": {
    "scrolled": false
   },
   "outputs": [
    {
     "name": "stdout",
     "output_type": "stream",
     "text": [
      "processing time:  8.364867687225342\n",
      "[ 370  139 1088 2076] 27 tie 0.93886775\n"
     ]
    }
   ],
   "source": [
    "# load image\n",
    "image = read_image_bgr('../../1.jpeg')\n",
    "\n",
    "# copy to draw on\n",
    "draw = image.copy()\n",
    "draw = cv2.cvtColor(draw, cv2.COLOR_BGR2RGB)\n",
    "\n",
    "# preprocess image for network\n",
    "image = preprocess_image(image)\n",
    "image, scale = resize_image(image)\n",
    "\n",
    "# process image\n",
    "start = time.time()\n",
    "_, _, detections = model.predict_on_batch(np.expand_dims(image, axis=0))\n",
    "print(\"processing time: \", time.time() - start)\n",
    "\n",
    "# compute predicted labels and scores\n",
    "predicted_labels = np.argmax(detections[0, :, 4:], axis=1)\n",
    "scores = detections[0, np.arange(detections.shape[1]), 4 + predicted_labels]\n",
    "\n",
    "# correct for image scale\n",
    "detections[0, :, :4] /= scale\n",
    "\n",
    "# visualize detections\n",
    "for idx, (label, score) in enumerate(zip(predicted_labels, scores)):\n",
    "    if score < 0.5:\n",
    "        continue\n",
    "    b = detections[0, idx, :4].astype(int)\n",
    "    print(b, label, labels_to_names[label], score)\n",
    "    cv2.rectangle(draw, (b[0], b[1]), (b[2], b[3]), (0, 0, 255), 3)\n",
    "    caption = \"{} {:.3f}\".format(labels_to_names[label], score)\n",
    "    cv2.putText(draw, caption, (b[0], b[1] - 10), cv2.FONT_HERSHEY_PLAIN, 1.5, (0, 0, 0), 3)\n",
    "    cv2.putText(draw, caption, (b[0], b[1] - 10), cv2.FONT_HERSHEY_PLAIN, 1.5, (255, 255, 255), 2)\n",
    "    \n",
    "# plt.figure(figsize=(15, 15))\n",
    "# plt.axis('off')\n",
    "# plt.imshow(draw)\n",
    "# plt.show()"
   ]
  },
  {
   "cell_type": "markdown",
   "metadata": {},
   "source": [
    "## Automatic Generation of Bounding Boxes"
   ]
  },
  {
   "cell_type": "code",
   "execution_count": 36,
   "metadata": {},
   "outputs": [
    {
     "name": "stdout",
     "output_type": "stream",
     "text": [
      "Generation time for 6 images:  42.594841957092285\n"
     ]
    }
   ],
   "source": [
    "import xml.etree.cElementTree as ET\n",
    "import os.path as path\n",
    "import glob\n",
    "\n",
    "start = time.time()\n",
    "image_paths = []\n",
    "\n",
    "count = 0\n",
    "for f in glob.iglob('data/women/**/*.*', recursive=True):\n",
    "    if count > 5: break\n",
    "    if (f.split(\".\")[-1] == \"xml\"): continue\n",
    "    image_paths.append(f)\n",
    "    count+=1\n",
    "\n",
    "# Setup XML\n",
    "root = ET.Element(\"root\")\n",
    "    \n",
    "# Iterate over images in directory\n",
    "for  image_path in image_paths:\n",
    "    # Load Image\n",
    "    image = read_image_bgr(image_path)\n",
    "    draw = image.copy()\n",
    "    draw = cv2.cvtColor(draw, cv2.COLOR_BGR2RGB)\n",
    "\n",
    "    # Preprocess and scale\n",
    "    image = preprocess_image(image)\n",
    "    image, scale = resize_image(image)\n",
    "    \n",
    "    # Detect images\n",
    "    _, _, detections = model.predict_on_batch(np.expand_dims(image, axis=0))\n",
    "    \n",
    "    # compute predicted labels and scores\n",
    "    predicted_labels = np.argmax(detections[0, :, 4:], axis=1)\n",
    "    scores = detections[0, np.arange(detections.shape[1]), 4 + predicted_labels]\n",
    "    \n",
    "    # correct for image scale\n",
    "    detections[0, :, :4] /= scale\n",
    "    \n",
    "    image = ET.SubElement(root, \"image\")\n",
    "    annotation_path = image_path.split(\".\")[0] + \".xml\"\n",
    "    image.set('filename', annotation_path)\n",
    "    \n",
    "    # visualize detections\n",
    "    for idx, (label, score) in enumerate(zip(predicted_labels, scores)):\n",
    "        if score < 0.5 or label != 0: # Skip if not too confident or label != 0 [Person]\n",
    "            continue \n",
    "        b = detections[0, idx, :4].astype(int) \n",
    "        person = ET.SubElement(image, \"person\")\n",
    "        ET.SubElement(person, \"xmin\").text = str(b[0])\n",
    "        ET.SubElement(person, \"ymin\").text = str(b[1])\n",
    "        ET.SubElement(person, \"xmax\").text = str(b[2])\n",
    "        ET.SubElement(person, \"ymax\").text = str(b[3])\n",
    "\n",
    "        # Displaying Bounding Box\n",
    "        # cv2.rectangle(draw, (b[0], b[1]), (b[2], b[3]), (0, 0, 255), 3)\n",
    "        # caption = \"{} {:.3f}\".format(labels_to_names[label], score)\n",
    "        # cv2.putText(draw, caption, (b[0], b[1] - 10), cv2.FONT_HERSHEY_PLAIN, 1.5, (0, 0, 0), 3)\n",
    "        # cv2.putText(draw, caption, (b[0], b[1] - 10), cv2.FONT_HERSHEY_PLAIN, 1.5, (255, 255, 255), 2)\n",
    "        \n",
    "        # plt.figure(figsize=(15, 15))\n",
    "        # plt.axis('off')\n",
    "        # plt.imshow(draw)\n",
    "        # plt.show()\n",
    "\n",
    "# Output XML file\n",
    "# print(ET.tostring(root, encoding='utf8', method='xml'))\n",
    "tree = ET.ElementTree(root)\n",
    "annotations_filename = 'annotations.xml'\n",
    "open(annotations_filename, 'a').close()\n",
    "tree.write(annotations_filename) \n",
    "\n",
    "end = time.time()\n",
    "print(\"Generation time for {} images: \".format(len(image_paths)), end - start)"
   ]
  },
  {
   "cell_type": "code",
   "execution_count": 39,
   "metadata": {},
   "outputs": [
    {
     "data": {
      "text/plain": [
       "{'data/women/women-jumpsuits/DU7RELCTafrikrea/0DU7RELCTafrikrea.xml': [(115,\n",
       "   81,\n",
       "   551,\n",
       "   1013)],\n",
       " 'data/women/women-jumpsuits/DU7RELCTafrikrea/1DU7RELCTafrikrea.xml': [(221,\n",
       "   5,\n",
       "   495,\n",
       "   972)],\n",
       " 'data/women/women-jumpsuits/DU7RELCTafrikrea/2DU7RELCTafrikrea.xml': [(216,\n",
       "   -11,\n",
       "   514,\n",
       "   1051)],\n",
       " 'data/women/women-jumpsuits/DU7RELCTafrikrea/3DU7RELCTafrikrea.xml': [(233,\n",
       "   97,\n",
       "   459,\n",
       "   1000)],\n",
       " 'data/women/women-jumpsuits/DU7RELCTafrikrea/4DU7RELCTafrikrea.xml': [(120,\n",
       "   74,\n",
       "   522,\n",
       "   999)],\n",
       " 'data/women/women-jumpsuits/LJ926J3Pafrikrea/2LJ926J3Pafrikrea.xml': [(175,\n",
       "   29,\n",
       "   635,\n",
       "   1048)]}"
      ]
     },
     "execution_count": 39,
     "metadata": {},
     "output_type": "execute_result"
    }
   ],
   "source": [
    "def XMLToDict(xml_file):\n",
    "    tree = ET.parse(xml_file)\n",
    "    root = tree.getroot()\n",
    "    \n",
    "    result = {}\n",
    "    # Iterate over the images\n",
    "    for image in root.findall('image'):\n",
    "        filename = image.get('filename')\n",
    "        # Get all persons\n",
    "        bounding_boxes = []\n",
    "        for person in image.findall('person'):\n",
    "            xmin = int(person.find('xmin').text)\n",
    "            ymin = int(person.find('ymin').text)\n",
    "            xmax = int(person.find('xmax').text)\n",
    "            ymax = int(person.find('ymax').text)\n",
    "            bounding_boxes.append((xmin, ymin, xmax, ymax))\n",
    "        result[filename] = bounding_boxes\n",
    "    \n",
    "    return result\n",
    "\n",
    "XMLToDict('annotations.xml')"
   ]
  },
  {
   "cell_type": "code",
   "execution_count": null,
   "metadata": {},
   "outputs": [],
   "source": []
  }
 ],
 "metadata": {
  "kernelspec": {
   "display_name": "Python 3",
   "language": "python",
   "name": "python3"
  },
  "language_info": {
   "codemirror_mode": {
    "name": "ipython",
    "version": 3
   },
   "file_extension": ".py",
   "mimetype": "text/x-python",
   "name": "python",
   "nbconvert_exporter": "python",
   "pygments_lexer": "ipython3",
   "version": "3.6.3"
  }
 },
 "nbformat": 4,
 "nbformat_minor": 2
}
